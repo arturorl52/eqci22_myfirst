{
 "cells": [
  {
   "cell_type": "code",
   "execution_count": 11,
   "id": "84c28139-7c7c-4884-ad2a-09644130042f",
   "metadata": {},
   "outputs": [],
   "source": [
    "import numpy as np\n",
    "from qiskit import QuantumCircuit, Aer, execute\n",
    "from qiskit.visualization import plot_histogram"
   ]
  },
  {
   "cell_type": "code",
   "execution_count": 21,
   "id": "bf4396e5-3051-41b3-8966-ab946c365435",
   "metadata": {},
   "outputs": [
    {
     "data": {
      "text/html": [
       "<pre style=\"word-wrap: normal;white-space: pre;background: #fff0;line-height: 1.1;font-family: &quot;Courier New&quot;,Courier,monospace\">     ┌───┐┌───┐┌─┐\n",
       "  q: ┤ H ├┤ X ├┤M├\n",
       "     └───┘└───┘└╥┘\n",
       "c: 1/═══════════╩═\n",
       "                0 </pre>"
      ],
      "text/plain": [
       "     ┌───┐┌───┐┌─┐\n",
       "  q: ┤ H ├┤ X ├┤M├\n",
       "     └───┘└───┘└╥┘\n",
       "c: 1/═══════════╩═\n",
       "                0 "
      ]
     },
     "execution_count": 21,
     "metadata": {},
     "output_type": "execute_result"
    }
   ],
   "source": [
    "qc=QuantumCircuit(1,1)\n",
    "qc.h(0)\n",
    "qc.x(0)\n",
    "qc.measure(0,0)\n",
    "qc.draw()"
   ]
  },
  {
   "cell_type": "code",
   "execution_count": 22,
   "id": "a82d202b-cdba-435f-b9c3-1a18bf84be72",
   "metadata": {},
   "outputs": [],
   "source": [
    "job=execute(qc, backend=Aer.get_backend(\"aer_simulator\"),shots=1000)\n"
   ]
  },
  {
   "cell_type": "code",
   "execution_count": 23,
   "id": "4092700a-e080-4df5-a2ba-db0eeddf7693",
   "metadata": {},
   "outputs": [],
   "source": [
    "results = job.result()"
   ]
  },
  {
   "cell_type": "code",
   "execution_count": 24,
   "id": "28197196-47bb-4c26-89a3-e4ee7eab2b27",
   "metadata": {},
   "outputs": [],
   "source": [
    "counts = results.get_counts()"
   ]
  },
  {
   "cell_type": "code",
   "execution_count": 25,
   "id": "ec9ea711-ac48-4c91-b360-c56d41dfc8dc",
   "metadata": {},
   "outputs": [
    {
     "data": {
      "image/png": "[encoded data removed]",
      "text/plain": [
       "<Figure size 504x360 with 1 Axes>"
      ]
     },
     "execution_count": 25,
     "metadata": {},
     "output_type": "execute_result"
    }
   ],
   "source": [
    "plot_histogram(counts)"
   ]
  },
  {
   "cell_type": "code",
   "execution_count": null,
   "id": "3784d844-ce39-44fb-b877-62585a0ff10c",
   "metadata": {},
   "outputs": [],
   "source": []
  }
 ],
 "metadata": {
  "kernelspec": {
   "display_name": "Python 3 (ipykernel)",
   "language": "python",
   "name": "python3"
  },
  "language_info": {
   "codemirror_mode": {
    "name": "ipython",
    "version": 3
   },
   "file_extension": ".py",
   "mimetype": "text/x-python",
   "name": "python",
   "nbconvert_exporter": "python",
   "pygments_lexer": "ipython3",
   "version": "3.9.7"
  }
 },
 "nbformat": 4,
 "nbformat_minor": 5
}
